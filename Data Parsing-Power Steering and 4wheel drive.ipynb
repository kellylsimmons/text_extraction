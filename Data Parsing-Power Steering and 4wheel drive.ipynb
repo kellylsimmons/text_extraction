{
 "cells": [
  {
   "cell_type": "code",
   "execution_count": null,
   "metadata": {},
   "outputs": [],
   "source": [
    "#!python -m spacy download en_core_web_trf"
   ]
  },
  {
   "cell_type": "code",
   "execution_count": null,
   "metadata": {},
   "outputs": [],
   "source": [
    "#!pip install spacy-transformers"
   ]
  },
  {
   "cell_type": "code",
   "execution_count": 8,
   "metadata": {},
   "outputs": [],
   "source": [
    "from pdfminer.high_level import extract_text\n",
    "import spacy\n",
    "import spacy_transformers\n",
    "nlp = spacy.load(\"en_core_web_trf\")\n",
    "import re\n",
    "import pandas as pd\n",
    "from spacy.lang.en.stop_words import STOP_WORDS"
   ]
  },
  {
   "cell_type": "code",
   "execution_count": 45,
   "metadata": {},
   "outputs": [],
   "source": [
    "text = extract_text('2004-envoy.pdf')\n",
    "text = re.sub(r'\\n|\\t|\\r',' ',text)\n",
    "pattern = r'2HI|4HI|A4WD'\n",
    "text = re.sub(pattern,'four-wheel drive',text)"
   ]
  },
  {
   "cell_type": "code",
   "execution_count": 46,
   "metadata": {},
   "outputs": [],
   "source": [
    "doc = nlp(text)"
   ]
  },
  {
   "cell_type": "code",
   "execution_count": 47,
   "metadata": {},
   "outputs": [],
   "source": [
    "# grab all nouns to start. \n",
    "entities = []\n",
    "for sent in doc.sents:\n",
    "    #cutting out table of contents/index\n",
    "    if '.......' in sent.text:\n",
    "        pass\n",
    "    else:\n",
    "        phrase = []\n",
    "        nouns = []\n",
    "        subjects = []\n",
    "        objects = []\n",
    "        nsubjects = []\n",
    "        dobjects = []\n",
    "        for chunk in sent.noun_chunks:\n",
    "            phrase.append(chunk.text)\n",
    "            #simple filter t get rid of useless nouns\n",
    "            if len(chunk.root.text)>2:\n",
    "                t = chunk.root\n",
    "                if t.pos_ == \"NOUN\":\n",
    "                    nouns.append(t.lemma_)\n",
    "                if 'obj' in t.dep_:\n",
    "                    objects.append(t.lemma_)\n",
    "                if 'subj' in t.dep_:\n",
    "                    subjects.append(t.lemma_)\n",
    "                if 'dobj' in t.dep_:\n",
    "                    dobjects.append(t.lemma_)\n",
    "                if 'nsubj' in t.dep_:\n",
    "                    nsubjects.append(t.lemma_)\n",
    "                entities.append([phrase, nouns, objects, subjects,dobjects, nsubjects, sent.text])\n",
    "pos_df =  pd.DataFrame(entities, columns=['phrase','nouns', 'objects', 'subjects','dobjects','nsubjects','sent'])\n",
    "pos_df.to_csv('basic_pos.csv', index=False)"
   ]
  },
  {
   "cell_type": "code",
   "execution_count": 13,
   "metadata": {},
   "outputs": [
    {
     "data": {
      "text/plain": [
       "0        [seat, seat, belt, restraint, system, system, ...\n",
       "1        [seat, seat, belt, restraint, system, system, ...\n",
       "2        [seat, seat, belt, restraint, system, system, ...\n",
       "3        [seat, seat, belt, restraint, system, system, ...\n",
       "4        [seat, seat, belt, restraint, system, system, ...\n",
       "                               ...                        \n",
       "23805                              [resident, check, fund]\n",
       "23806                              [resident, check, fund]\n",
       "23807                                              [grade]\n",
       "23808                                            [trailer]\n",
       "23809                                          [satellite]\n",
       "Name: nouns, Length: 23810, dtype: object"
      ]
     },
     "execution_count": 13,
     "metadata": {},
     "output_type": "execute_result"
    }
   ],
   "source": [
    "pos_df.nouns"
   ]
  },
  {
   "cell_type": "code",
   "execution_count": null,
   "metadata": {},
   "outputs": [],
   "source": [
    "test =  nlp('Each of these surfaces affects the steering, acceleration and braking of your vehicle in different ways.')\n",
    "for t in test:\n",
    "    if t.pos_=='NOUN':\n",
    "        print(t)"
   ]
  },
  {
   "cell_type": "code",
   "execution_count": null,
   "metadata": {},
   "outputs": [],
   "source": [
    "#what is the connection between power steering and 4wheel drive"
   ]
  },
  {
   "cell_type": "code",
   "execution_count": null,
   "metadata": {},
   "outputs": [],
   "source": [
    "# remember noun chunks when adding the advanced features"
   ]
  },
  {
   "cell_type": "markdown",
   "metadata": {},
   "source": [
    "# OLD"
   ]
  },
  {
   "cell_type": "code",
   "execution_count": null,
   "metadata": {},
   "outputs": [],
   "source": [
    "#while I like this much better, I have to keep in mind that this needs to be as simple as possible. \n",
    "phrase = nlp(\"'Move the front of the horizontal seat control up or down to adjust the front portion of the cushion'\")\n",
    "relationships = []\n",
    "for sent in doc.sents:\n",
    "    root, subj, subj_head, obj, obj_head = '','','','',''\n",
    "    root = ','.join([t.lemma_ for t in sent if t.dep_=='ROOT'])\n",
    "    for t in sent:\n",
    "        if 'subj' in t.dep_:\n",
    "            subj_head = t.head.lemma_\n",
    "            subj = t.lemma_\n",
    "        #find object\n",
    "        # need to build seperate parser for prepositions.  \n",
    "        if 'dobj' in t.dep_:\n",
    "            obj =  t.lemma_\n",
    "            obj_head = t.head.lemma_\n",
    "            relationships.append([subj,subj_head, obj, obj_head, root, sent])\n",
    "rel_df = pd.DataFrame(relationships, columns = ['subj','subj_head', 'obj', 'obj_head', 'root', 'sent'])\n",
    "rel_df.to_csv('rel_df.csv', index=False)"
   ]
  },
  {
   "cell_type": "code",
   "execution_count": null,
   "metadata": {},
   "outputs": [],
   "source": []
  }
 ],
 "metadata": {
  "kernelspec": {
   "display_name": "Python 3 (ipykernel)",
   "language": "python",
   "name": "python3"
  },
  "language_info": {
   "codemirror_mode": {
    "name": "ipython",
    "version": 3
   },
   "file_extension": ".py",
   "mimetype": "text/x-python",
   "name": "python",
   "nbconvert_exporter": "python",
   "pygments_lexer": "ipython3",
   "version": "3.10.8"
  }
 },
 "nbformat": 4,
 "nbformat_minor": 2
}
